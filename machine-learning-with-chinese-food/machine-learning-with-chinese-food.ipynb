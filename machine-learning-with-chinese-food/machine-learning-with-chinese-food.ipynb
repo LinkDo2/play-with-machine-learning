{
 "cells": [
  {
   "cell_type": "markdown",
   "metadata": {
    "deletable": true,
    "editable": true
   },
   "source": [
    "# 如何学习中餐菜谱"
   ]
  },
  {
   "cell_type": "markdown",
   "metadata": {
    "deletable": true,
    "editable": true
   },
   "source": [
    "大概过年的时候围观了一篇这样的文章：\n",
    "[food2vec - Augmented cooking with machine intelligence](https://jaan.io/food2vec-augmented-cooking-machine-intelligence/)\n",
    "\n",
    "讲了一个把食物向量化的一个应用，还挺好玩的。\n",
    "\n",
    "转念一想，我大天朝物产丰富，在吃的方面绝对要比世界人民领先好几个档次，当然也是可以搞一搞这个的。"
   ]
  },
  {
   "cell_type": "markdown",
   "metadata": {
    "deletable": true,
    "editable": true
   },
   "source": [
    "### 数据预处理"
   ]
  },
  {
   "cell_type": "markdown",
   "metadata": {
    "deletable": true,
    "editable": true
   },
   "source": [
    "首先就是数据了，俗话说：“巧妇难为无米之炊。”没有数据，我这个“小厨师”也干不了活。\n",
    "\n",
    "我们先找到一个菜谱大全的文本文件，命名为“recipe.txt”。\n",
    "\n",
    "涉及中文字符处理，先把所有的字符串转成`Unicode`："
   ]
  },
  {
   "cell_type": "code",
   "execution_count": 1,
   "metadata": {
    "collapsed": true,
    "deletable": true,
    "editable": true
   },
   "outputs": [],
   "source": [
    "from __future__ import unicode_literals"
   ]
  },
  {
   "cell_type": "markdown",
   "metadata": {
    "deletable": true,
    "editable": true
   },
   "source": [
    "中文文件的编码向来是个大坑，这里我把文件转成了比较通用的UTF-8格式编码。可以用`codecs`模块指定编码格式来读取文件："
   ]
  },
  {
   "cell_type": "code",
   "execution_count": 3,
   "metadata": {
    "collapsed": true,
    "deletable": true,
    "editable": true
   },
   "outputs": [],
   "source": [
    "import codecs\n",
    "with codecs.open(\"data/recipe.txt\", encoding=\"utf8\") as f:\n",
    "    raw_data = f.read().strip().split(\"\\n\")"
   ]
  },
  {
   "cell_type": "markdown",
   "metadata": {
    "deletable": true,
    "editable": true
   },
   "source": [
    "我对数据做了一些简单的预处理，现在我们的数据长这个样子："
   ]
  },
  {
   "cell_type": "code",
   "execution_count": 4,
   "metadata": {
    "collapsed": false,
    "deletable": true,
    "editable": true
   },
   "outputs": [
    {
     "name": "stdout",
     "output_type": "stream",
     "text": [
      "﻿【菜名】板栗烧鸡【所属菜系】东北菜【特点】鸡肉酥烂，板栗香甜，时令佳肴，美味可口【原料】活雌鸡或阉鸡1只，约重1500～2000克，菜油（或化猪油）100克，豆瓣25克，老姜50克，大葱10克，白糖或冰糖25克，花椒、料酒、酱油、精盐、味精、八角等适量。【制作过程】将鸡宰杀、拔毛、剖腹去内脏洗净，把鸡头、翅膀和脚至胫部切下，然后将鸡对剖开，将鸡肉斩成长3厘米、宽2厘米的长方块，把鸡头、翅膀和脚也斩成3厘米的段。锅置旺火上，下100克菜油烧热，然后将鸡块入热油锅中爆炒，待鸡肉变硬时，加入料酒及姜块、豆瓣、花椒，炒至水分渐干溢出香味时，即掺入适量水，放入少量盐、酱油和白糖、八角等。加盖焖烧至六七成熟时，再加入板栗同烧15分钟左右即可。起锅时加入葱段及味精，有少量汤汁为宜。\r\n",
      "【菜名】鸳鸯戏飞龙【所属菜系】东北菜【特点】【原料】飞龙肉200克，鸡脯肉50克，口蘑、蛋清、火腿、菜心适量。【制作过程】1.飞龙肉切薄片，用蛋清糊上浆，下开水锅汆透捞出；2.用150克蛋清搅成蛋泡糊，鸡脯肉制成茸，加在蛋泡糊中拌匀，倒在模子中成鸳鸯形，用红、绿辣椒饰嘴、眼及翅膀，上笼蒸熟取出；3.飞龙片、火腿片、鲜蘑、油菜心下鸡清汤中烧开捞入碗中，余汤烧开撇净浮沫，调好味后倒入汤碗，再放入蒸好的鸳鸯即成。\r\n",
      "【菜名】木樨肉【所属菜系】东北菜【特点】【原料】猪瘦肉150克，鸡蛋150克，干木耳5克，黄瓜克，盐5克，酱油3克，料酒5克，油80克，香油料克。【制作过程】将猪瘦肉切成长5、宽0.3、厚0.3厘米的丝。鸡蛋磕入碗中，用筷子打匀；干木耳加开水泡5分钟，去掉根部，撕成块。黄瓜斜刀切成长2厘米的段，放平后直刀切成片，片形状即为菱形。葱、姜切成丝；③炒锅上火，加油，烧热后加入鸡蛋炒散，使其成为不规则小块，盛装在盘中，即为所说的木须；④炒锅上火，加油烧热，将肉丝放入煸炒，肉色变白后，加入葱、姜丝同炒，至八成熟时，加入料酒、酱油、盐，炒匀后加入木耳、黄瓜和鸡蛋块同炒，成熟后淋入香油即可。\r\n",
      "【菜名】白肉血肠【所属菜系】东北菜【特点】【原料】鲜带皮猪五花肉一方，猪大肠500克，鲜猪血1000克【制作过程】（1）带皮猪五花肉皮朝下用明火把皮烧焦，在温水中泡半个小时取，刮净焦皮，下开水锅中煮开后，用小火煮透，趁热抽去肋骨，晾凉后切薄片装盘。（2）猪肥肠治净，皮朝内翻出，一头扎紧。（3）鲜猪血澄清，上部血清加1/4清水、盐、味精及用砂仁、桂皮、企边桂、紫蔻、丁香合制的调料面搅匀，倒入猪肠中，扎紧封口，下开水锅用小火煮至浮出，捞出晾凉切片，下水锅中焯透捞如汤碗只，加葱花、姜丝、味精等调料及肉汤，随白肉一同上桌即可。\r\n",
      "【菜名】鸳鸯戏飞龙【所属菜系】东北菜【特点】【原料】飞龙肉200克，鸡脯肉50克，口蘑、蛋清、火腿、菜心适量【制作过程】（1）飞龙肉切薄片，用蛋清糊上浆，下开水锅汆透捞出；（2）用150克蛋清搅成蛋泡糊，鸡脯肉制成茸，加在蛋泡糊中拌匀，倒在模子中成鸳鸯形，用红、绿辣椒饰嘴、眼及翅膀，上笼蒸熟取出；（3）飞龙片、火腿片、鲜蘑、油菜心下鸡清汤中烧开捞入碗中，余汤烧开撇净浮沫，调好味后倒入汤碗，再放入蒸好的鸳鸯即成。\r\n"
     ]
    }
   ],
   "source": [
    "for line in raw_data[:5]:\n",
    "    print line"
   ]
  },
  {
   "cell_type": "markdown",
   "metadata": {
    "deletable": true,
    "editable": true
   },
   "source": [
    "每一行是一个数据，包括菜名、菜系、特点、原料、做法等细节。\n",
    "\n",
    "先看一眼有多少个菜谱："
   ]
  },
  {
   "cell_type": "code",
   "execution_count": 5,
   "metadata": {
    "collapsed": false,
    "deletable": true,
    "editable": true
   },
   "outputs": [
    {
     "data": {
      "text/plain": [
       "4577"
      ]
     },
     "execution_count": 5,
     "metadata": {},
     "output_type": "execute_result"
    }
   ],
   "source": [
    "len(raw_data)"
   ]
  },
  {
   "cell_type": "markdown",
   "metadata": {
    "deletable": true,
    "editable": true
   },
   "source": [
    "先来定义一个函数处理每一条数据，每行数据规律性还挺明显的，这里我用正则表达式提取相关信息："
   ]
  },
  {
   "cell_type": "code",
   "execution_count": 6,
   "metadata": {
    "collapsed": true,
    "deletable": true,
    "editable": true
   },
   "outputs": [],
   "source": [
    "import re\n",
    "\n",
    "def process_single_data(line):\n",
    "    pattern = r\"【菜名】([^【]*)【所属菜系】([^【]*)【特点】([^【]*).*【原料】([^【]*).*【制作过程】([^【]*).*\"\n",
    "    match = re.search(pattern, line)\n",
    "    if match:\n",
    "        return {\"菜名\": match.group(1), \n",
    "                \"菜系\": match.group(2), \n",
    "                \"特点\": match.group(3), \n",
    "                \"原料\": match.group(4),\n",
    "                \"过程\": match.group(5)}\n",
    "    print \"处理下列数据出现错误：\", line"
   ]
  },
  {
   "cell_type": "markdown",
   "metadata": {
    "deletable": true,
    "editable": true
   },
   "source": [
    "随便处理一行试试："
   ]
  },
  {
   "cell_type": "code",
   "execution_count": 7,
   "metadata": {
    "collapsed": false,
    "deletable": true,
    "editable": true
   },
   "outputs": [
    {
     "name": "stdout",
     "output_type": "stream",
     "text": [
      "特点 \n",
      "菜名 香露全鸡\n",
      "过程 1.将鸡治净，从背部剖开，再横切3刀，鸡腹向上放入炖钵，铺上火腿片、香菇，加入调料、鸡汤。2.钵内放入盛有高粱酒、丁香的小杯，加盖封严，蒸2小时后取出钵内小杯即成。\r\n",
      "菜系 闽菜\n",
      "原料 肥嫩母鸡1只，水发香菇2朵，火腿肉2片，高粱酒50克，鸡汤750克，丁香子5粒\n"
     ]
    }
   ],
   "source": [
    "sample = process_single_data(raw_data[1105])\n",
    "\n",
    "for k in sample:\n",
    "    print k, sample[k]"
   ]
  },
  {
   "cell_type": "markdown",
   "metadata": {
    "deletable": true,
    "editable": true
   },
   "source": [
    "对所有的数据进行处理："
   ]
  },
  {
   "cell_type": "code",
   "execution_count": 8,
   "metadata": {
    "collapsed": false,
    "deletable": true,
    "editable": true
   },
   "outputs": [],
   "source": [
    "data = map(process_single_data, raw_data)"
   ]
  },
  {
   "cell_type": "markdown",
   "metadata": {
    "deletable": true,
    "editable": true
   },
   "source": [
    "在建模之前，我们先看看数据的分布。"
   ]
  },
  {
   "cell_type": "markdown",
   "metadata": {
    "deletable": true,
    "editable": true
   },
   "source": [
    "### 中文画图"
   ]
  },
  {
   "cell_type": "markdown",
   "metadata": {
    "deletable": true,
    "editable": true
   },
   "source": [
    "涉及画图，我们先导入必要的画图工具："
   ]
  },
  {
   "cell_type": "code",
   "execution_count": 9,
   "metadata": {
    "collapsed": false,
    "deletable": true,
    "editable": true
   },
   "outputs": [],
   "source": [
    "import numpy as np\n",
    "import matplotlib.pyplot as plt\n",
    "\n",
    "%matplotlib inline"
   ]
  },
  {
   "cell_type": "markdown",
   "metadata": {
    "deletable": true,
    "editable": true
   },
   "source": [
    "而且需要解决不显示中文的问题："
   ]
  },
  {
   "cell_type": "code",
   "execution_count": 10,
   "metadata": {
    "collapsed": false,
    "deletable": true,
    "editable": true
   },
   "outputs": [
    {
     "data": {
      "image/png": "[encoded data removed]",
      "text/plain": [
       "<matplotlib.figure.Figure at 0x7f8b4b3bce50>"
      ]
     },
     "metadata": {},
     "output_type": "display_data"
    }
   ],
   "source": [
    "plt.title(\"中文\")\n",
    "plt.show()"
   ]
  },
  {
   "cell_type": "markdown",
   "metadata": {
    "deletable": true,
    "editable": true
   },
   "source": [
    "显示不出中文是因为它找不到合适的字体去显示。\n",
    "\n",
    "为此，我们可以使用`FontProperties`指定字体的路径来生成一个字体对象，然后画图的时候指定字体。\n",
    "\n",
    "我个人比较喜欢简单粗暴，所以都是直接找到字体文件，放在当前文件夹直接用，比如宋体："
   ]
  },
  {
   "cell_type": "code",
   "execution_count": 11,
   "metadata": {
    "collapsed": true,
    "deletable": true,
    "editable": true
   },
   "outputs": [],
   "source": [
    "from matplotlib.font_manager import FontProperties\n",
    "font_song = FontProperties(fname=\"SIMSUN.TTC\")"
   ]
  },
  {
   "cell_type": "code",
   "execution_count": 12,
   "metadata": {
    "collapsed": false,
    "deletable": true,
    "editable": true
   },
   "outputs": [
    {
     "data": {
      "image/png": "[encoded data removed]",
      "text/plain": [
       "<matplotlib.figure.Figure at 0x7f8b490cbed0>"
      ]
     },
     "metadata": {},
     "output_type": "display_data"
    }
   ],
   "source": [
    "plt.title(\"中文\", fontproperties=font_song)\n",
    "plt.show()"
   ]
  },
  {
   "cell_type": "markdown",
   "metadata": {
    "deletable": true,
    "editable": true
   },
   "source": [
    "### 菜系统计"
   ]
  },
  {
   "cell_type": "code",
   "execution_count": 13,
   "metadata": {
    "collapsed": false,
    "deletable": true,
    "editable": true
   },
   "outputs": [],
   "source": [
    "data_tps = [s[\"菜系\"] for s in data]"
   ]
  },
  {
   "cell_type": "markdown",
   "metadata": {
    "deletable": true,
    "editable": true
   },
   "source": [
    "先看看有哪些菜系和数目，计数这种任务交给Counter就好了："
   ]
  },
  {
   "cell_type": "code",
   "execution_count": 14,
   "metadata": {
    "collapsed": false,
    "deletable": true,
    "editable": true
   },
   "outputs": [
    {
     "name": "stdout",
     "output_type": "stream",
     "text": [
      "沪菜 87\n",
      "浙江菜 1114\n",
      "韩国 310\n",
      "湘菜 75\n",
      "江苏菜 249\n",
      "满汉全席 44\n",
      "微波炉菜 85\n",
      "日本料理 11\n",
      "海派菜 19\n",
      "鲁菜 285\n",
      "川菜 352\n",
      "全部 1323\n",
      "云南菜 18\n",
      "淮阳菜 34\n",
      "东北菜 52\n",
      "闽菜 114\n",
      "法国名菜 53\n",
      "京菜 123\n",
      "粤菜 195\n",
      "其他西餐 34\n"
     ]
    }
   ],
   "source": [
    "from collections import Counter\n",
    "\n",
    "tps_cts = Counter(data_tps)\n",
    "\n",
    "for k, v in tps_cts.items():\n",
    "    print k, v"
   ]
  },
  {
   "cell_type": "code",
   "execution_count": 15,
   "metadata": {
    "collapsed": false,
    "deletable": true,
    "editable": true
   },
   "outputs": [
    {
     "data": {
      "image/png": "[encoded data removed]",
      "text/plain": [
       "<matplotlib.figure.Figure at 0x7f8b49070c50>"
      ]
     },
     "metadata": {},
     "output_type": "display_data"
    }
   ],
   "source": [
    "from matplotlib import cm\n",
    "\n",
    "_, ax = plt.subplots(figsize=(8, 8))\n",
    "ax.pie([v for k, v in tps_cts.items()], labels=[k for k, v in tps_cts.items()], colors=cm.Vega20.colors)\n",
    "ax.axis(\"equal\")\n",
    "for t in ax.texts:\n",
    "    t.set_font_properties(font_song)\n",
    "\n",
    "plt.show()"
   ]
  },
  {
   "cell_type": "markdown",
   "metadata": {
    "deletable": true,
    "editable": true
   },
   "source": [
    "这里，类别为全部大概是没有菜系的意思吧（我猜的）。"
   ]
  },
  {
   "cell_type": "markdown",
   "metadata": {
    "deletable": true,
    "editable": true
   },
   "source": [
    "### 食材统计"
   ]
  },
  {
   "cell_type": "markdown",
   "metadata": {
    "deletable": true,
    "editable": true
   },
   "source": [
    "食材统计是个比较麻烦的事情，先随便看看食材的数据长什么样子："
   ]
  },
  {
   "cell_type": "code",
   "execution_count": 16,
   "metadata": {
    "collapsed": false,
    "deletable": true,
    "editable": true
   },
   "outputs": [
    {
     "name": "stdout",
     "output_type": "stream",
     "text": [
      "活雌鸡或阉鸡1只，约重1500～2000克，菜油（或化猪油）100克，豆瓣25克，老姜50克，大葱10克，白糖或冰糖25克，花椒、料酒、酱油、精盐、味精、八角等适量。\n",
      "燕窝（40克）、椰子（1个，750克）、味粉（15克）、鸡汤（250克）、精盐（少许）、小苏打粉（少许）\n",
      "活鳝鱼350克。虾仁50克、熟火腿20克、猪腰片50克、水发冬菇20克，水发虾米10克、熟笋片30克…虾子5克。猪肉汤750克、绍酒15克、葱15克、姜7.5克、盐5克、味精3克、白胡椒粉1.5克。\n",
      "光鸭（1只，1500克左右）、葱段（20克）、姜片（20克）、桂皮（20克）、茴香（13克）、红米（8克）、黄酒、冰糖（130克）、白酱、盐、麻油\n",
      "节瓜600克（约1斤），草菇50克（约1两半），虾仁100克（约2两半），蟹肉75克（约2两），蛋白1只，上汤400毫升，姜1片，葱1条。盐1茶匙，糖1/4茶匙，粟粉、酒各1茶匙，水1汤匙，胡椒粉少许。\n",
      "嫩母鸡（约1．25公斤左右）1只，胡萝卜100克，芹菜50克，葱头10O克，精盐10克，香叶半片，胡椒6粒，鸡清汤250毫升，生菜油500（罕耗100克），奶油15克，鸡油15克，红白菜200克，酸黄瓜100克，鲜西红柿100克，纸花2个，萝卜花2个，生菜叶10克。\n",
      "水发鱿鱼（325克）、京葱花（40克）、大蒜头片（10片）、黄酒（12.5克）、醋（少许）、盐（6克）、味精（少许）、酱瓜米（少许）、菱粉（45克）、清汤（150克）。\n",
      "鲜鱿鱼肉12两（约480克），西芹一条。西芹调味料：盐1/8茶匙，麻油少许。鱿鱼调味料：盐1/4茶匙，胡椒粉少许。椒麻汁料：花椒粒1茶匙，姜茸2茶匙，青葱茸2汤匙，糖2/3茶匙，醋，麻油各1茶匙，生抽，开水各2汤匙。\n",
      "原料：面条500克，菠菜或小白菜300克，青椒（甜）3个，榨菜25克。葱10克，蒜1头，酱油10克，香醋5克，精盐3克，味精2克，香油15克，高汤适量。\n",
      "主料扁豆150克，鸡油50克。调料料酒25克，味精5克，湿淀粉15克，鸡汤150克。\n"
     ]
    }
   ],
   "source": [
    "for i in range(0, 4000, 400):\n",
    "    print data[i][\"原料\"]"
   ]
  },
  {
   "cell_type": "markdown",
   "metadata": {
    "deletable": true,
    "editable": true
   },
   "source": [
    "为了搞定这些问题，我们可以想办法去掉里面的一些关键词，比如多少克，少许，越重以及标点符号："
   ]
  },
  {
   "cell_type": "code",
   "execution_count": 17,
   "metadata": {
    "collapsed": false,
    "deletable": true,
    "editable": true
   },
   "outputs": [
    {
     "name": "stdout",
     "output_type": "stream",
     "text": [
      "活雌鸡 阉鸡 菜油 豆瓣 老姜 大葱 白糖 冰糖 花椒 料酒 酱油 精盐 味精\n",
      "燕窝 椰子 味粉 鸡汤 精盐 小苏打粉\n",
      "活鳝鱼 虾仁 熟火腿 猪腰片 水发冬菇 水发虾米 熟笋片 虾子 猪肉汤 绍酒 葱 姜 盐 味精 白胡椒粉\n",
      "光鸭 葱段 姜片 桂皮 茴香 红米 黄酒 冰糖 白酱 盐 麻油\n",
      "节瓜 草菇 虾仁 蟹肉 蛋白 上汤 姜 葱 盐 糖 粟粉 酒 水 胡椒粉\n",
      "嫩母鸡 胡萝卜 芹菜 葱头 精盐 香叶 胡椒 鸡清汤 生菜油 奶油 鸡油 红白菜 酸黄瓜 鲜西红柿 纸花 萝卜花 生菜叶\n",
      "水发鱿鱼 京葱花 大蒜头片 黄酒 醋 盐 味精 酱瓜米 菱粉 清汤\n",
      "鲜鱿鱼肉 西芹 西芹 盐 麻油 鱿鱼 盐 胡椒粉 椒麻汁料 花椒粒 姜茸 青葱茸 糖 醋 麻油 生抽 开水\n",
      "面条 菠菜 小白菜 青椒 榨菜 葱 蒜 酱油 香醋 精盐 味精 香油 高汤\n",
      "扁豆 鸡油 料酒 味精 湿淀粉 鸡汤\n"
     ]
    }
   ],
   "source": [
    "def process_single_ingredient(line):\n",
    "    # 标点符号替换为空格\n",
    "    line = re.sub(\"[。，、/…~～：；:%]\", \" \", line) + \" \"\n",
    "    line = re.sub(\"（[^（]*）\", \" \", line)\n",
    "    # 阿拉伯数字替换为空格\n",
    "    line = re.sub(\"\\d+\\S* \", \" \", line)\n",
    "    # 汉语数字替换为空格\n",
    "    line = re.sub(\"[一二两三四五六七八九十几半]+\\S* \", \" \", line)\n",
    "    # 关键词替换为空格\n",
    "    for s in [\"少许\", \"适量\", \"或\", \"等\", \"重\", \"约\", \n",
    "              \"各\", \"原料\", \"调味料\", \"主料\", \"辅料\", \"调料\", \"用料\", \"和\", \"及\"]:\n",
    "        line = re.sub(s, \" \", line)\n",
    "    # 字母替换为空格\n",
    "    line = re.sub(\" \\w+ \", \" \", line)\n",
    "    line = re.sub(\" +\", \" \", line).strip()\n",
    "    return line\n",
    "\n",
    "for i in range(0, 4000, 400):\n",
    "    print process_single_ingredient(data[i][\"原料\"])"
   ]
  },
  {
   "cell_type": "markdown",
   "metadata": {
    "collapsed": true,
    "deletable": true,
    "editable": true
   },
   "source": [
    "这样结果就看起来不错的样子了，我们来做一下统计："
   ]
  },
  {
   "cell_type": "code",
   "execution_count": 18,
   "metadata": {
    "collapsed": true,
    "deletable": true,
    "editable": true
   },
   "outputs": [],
   "source": [
    "data_ings = map(lambda x: process_single_ingredient(x[\"原料\"]), data)\n",
    "data_ings_all = \" \".join(data_ings).split()\n",
    "\n",
    "ings_cts = Counter(data_ings_all)"
   ]
  },
  {
   "cell_type": "markdown",
   "metadata": {
    "deletable": true,
    "editable": true
   },
   "source": [
    "不出意外的话，排在前面的原料应该是各种调味品："
   ]
  },
  {
   "cell_type": "code",
   "execution_count": 19,
   "metadata": {
    "collapsed": false,
    "deletable": true,
    "editable": true,
    "scrolled": false
   },
   "outputs": [
    {
     "name": "stdout",
     "output_type": "stream",
     "text": [
      "酱油 1288\n",
      "花椒 252\n",
      "鸡蛋清 299\n",
      "鸡汤 399\n",
      "料酒 1048\n",
      "姜末 284\n",
      "水淀粉 254\n",
      "味精 2049\n",
      "姜 799\n",
      "麻油 351\n",
      "香油 460\n",
      "醋 434\n",
      "绍酒 808\n",
      "精盐 1520\n",
      "胡椒粉 801\n",
      "湿淀粉 619\n",
      "白糖 1140\n",
      "芝麻油 434\n",
      "葱 948\n",
      "盐 1452\n",
      "植物油 274\n",
      "油 277\n",
      "鸡蛋 506\n",
      "熟猪油 325\n",
      "淀粉 387\n",
      "葱段 237\n",
      "清汤 280\n",
      "猪油 225\n",
      "黄酒 243\n",
      "花生油 410\n",
      "糖 401\n",
      "面粉 261\n"
     ]
    }
   ],
   "source": [
    "for k, v in ings_cts.items():\n",
    "    if v > 200:\n",
    "        print k, v"
   ]
  },
  {
   "cell_type": "markdown",
   "metadata": {
    "deletable": true,
    "editable": true
   },
   "source": [
    "### 食材预测"
   ]
  },
  {
   "cell_type": "markdown",
   "metadata": {
    "deletable": true,
    "editable": true
   },
   "source": [
    "有了食材，我们可以按照那篇英文文章的想法，用一个食材预测的任务来得到食物的Embedding向量。\n",
    "\n",
    "那篇文章的想法是，我们用菜谱中的每个食材，来预测菜谱中除他之外的其它食材。"
   ]
  },
  {
   "cell_type": "markdown",
   "metadata": {
    "deletable": true,
    "editable": true
   },
   "source": [
    "我们现在的食材有："
   ]
  },
  {
   "cell_type": "code",
   "execution_count": 20,
   "metadata": {
    "collapsed": false,
    "deletable": true,
    "editable": true
   },
   "outputs": [
    {
     "data": {
      "text/plain": [
       "5598"
      ]
     },
     "execution_count": 20,
     "metadata": {},
     "output_type": "execute_result"
    }
   ],
   "source": [
    "len(ings_cts)"
   ]
  },
  {
   "cell_type": "markdown",
   "metadata": {
    "deletable": true,
    "editable": true
   },
   "source": [
    "我们现在去除那些只出现了次数比较少的食材："
   ]
  },
  {
   "cell_type": "code",
   "execution_count": 21,
   "metadata": {
    "collapsed": true,
    "deletable": true,
    "editable": true
   },
   "outputs": [],
   "source": [
    "for k in ings_cts.keys():\n",
    "    if ings_cts[k] <= 5:\n",
    "        ings_cts.pop(k)"
   ]
  },
  {
   "cell_type": "markdown",
   "metadata": {
    "deletable": true,
    "editable": true
   },
   "source": [
    "剩下的有："
   ]
  },
  {
   "cell_type": "code",
   "execution_count": 22,
   "metadata": {
    "collapsed": false,
    "deletable": true,
    "editable": true
   },
   "outputs": [
    {
     "data": {
      "text/plain": [
       "737"
      ]
     },
     "execution_count": 22,
     "metadata": {},
     "output_type": "execute_result"
    }
   ],
   "source": [
    "len(ings_cts)"
   ]
  },
  {
   "cell_type": "markdown",
   "metadata": {
    "deletable": true,
    "editable": true
   },
   "source": [
    "然后将他们编号："
   ]
  },
  {
   "cell_type": "code",
   "execution_count": 23,
   "metadata": {
    "collapsed": true,
    "deletable": true,
    "editable": true
   },
   "outputs": [],
   "source": [
    "word_idx = {k: idx+1 for idx, k in enumerate(ings_cts)}\n",
    "idx_word = {idx+1: k for idx, k in enumerate(ings_cts)}"
   ]
  },
  {
   "cell_type": "markdown",
   "metadata": {
    "deletable": true,
    "editable": true
   },
   "source": [
    "接下来将数据id化："
   ]
  },
  {
   "cell_type": "code",
   "execution_count": 24,
   "metadata": {
    "collapsed": false,
    "deletable": true,
    "editable": true
   },
   "outputs": [],
   "source": [
    "data_ings_idx = map(lambda x: [word_idx.get(t, 0) for t in x.split()], data_ings) "
   ]
  },
  {
   "cell_type": "markdown",
   "metadata": {
    "deletable": true,
    "editable": true
   },
   "source": [
    "#### 模型构造"
   ]
  },
  {
   "cell_type": "markdown",
   "metadata": {
    "deletable": true,
    "editable": true
   },
   "source": [
    "有了数据集，模型也就不难构造了："
   ]
  },
  {
   "cell_type": "markdown",
   "metadata": {
    "deletable": true,
    "editable": true
   },
   "source": [
    "这里，我们使用`keras`来构造我们的`Embedding`模型："
   ]
  },
  {
   "cell_type": "code",
   "execution_count": 25,
   "metadata": {
    "collapsed": false,
    "deletable": true,
    "editable": true
   },
   "outputs": [
    {
     "name": "stderr",
     "output_type": "stream",
     "text": [
      "Using TensorFlow backend.\n"
     ]
    }
   ],
   "source": [
    "import keras"
   ]
  },
  {
   "cell_type": "markdown",
   "metadata": {
    "deletable": true,
    "editable": true
   },
   "source": [
    "因为使用的是`tensorflow`的后端，而且是GPU版本的，我需要设置一下GPU选项，免得我的小程序什么都没做就吃掉所有的GPU显存（坑爹的tensorflow能不能不要认为这些卡都是我一个人在用！）："
   ]
  },
  {
   "cell_type": "code",
   "execution_count": 26,
   "metadata": {
    "collapsed": true,
    "deletable": true,
    "editable": true
   },
   "outputs": [],
   "source": [
    "import keras.backend as K\n",
    "\n",
    "if K.backend() == \"tensorflow\":\n",
    "    config = K.tf.ConfigProto()\n",
    "    config.gpu_options.allow_growth = True\n",
    "    session = K.tf.Session(config=config)\n",
    "    K.set_session(session)"
   ]
  },
  {
   "cell_type": "markdown",
   "metadata": {
    "deletable": true,
    "editable": true
   },
   "source": [
    "模型其实很简单，我们先构造一个`N×D`的`Embedding`矩阵，其中`N`是我的食材数目，`D`是我需要的食材向量的维度，那么`N`种食材就对应与这`N`个`D`维向量了。\n",
    "\n",
    "现在我们来构造这个模型："
   ]
  },
  {
   "cell_type": "code",
   "execution_count": 27,
   "metadata": {
    "collapsed": true,
    "deletable": true,
    "editable": true
   },
   "outputs": [],
   "source": [
    "from keras.models import Sequential\n",
    "from keras.layers import Embedding, Dense, Flatten\n",
    "from keras.regularizers import l2"
   ]
  },
  {
   "cell_type": "markdown",
   "metadata": {
    "deletable": true,
    "editable": true
   },
   "source": [
    "模型是个`Embedding`层加一个`sigmoid`输出的全连接层`Dense`，输入维度为1，代表食材的种类，输出长度为`N`，代表这个食材与其它食材相关的概率。"
   ]
  },
  {
   "cell_type": "code",
   "execution_count": 28,
   "metadata": {
    "collapsed": false,
    "deletable": true,
    "editable": true
   },
   "outputs": [],
   "source": [
    "n_words = len(word_idx) + 1\n",
    "model = Sequential()\n",
    "model.add(Embedding(n_words, 50, input_length=1, activity_regularizer=l2(0.01)))\n",
    "model.add(Flatten())\n",
    "model.add(Dense(n_words, activation=\"sigmoid\", activity_regularizer=l2(0.01)))"
   ]
  },
  {
   "cell_type": "code",
   "execution_count": 29,
   "metadata": {
    "collapsed": true,
    "deletable": true,
    "editable": true
   },
   "outputs": [],
   "source": [
    "model.compile(optimizer=\"adam\", loss=\"binary_crossentropy\", metrics=[\"acc\"])"
   ]
  },
  {
   "cell_type": "markdown",
   "metadata": {
    "deletable": true,
    "editable": true
   },
   "source": [
    "构造我们的训练集："
   ]
  },
  {
   "cell_type": "code",
   "execution_count": 30,
   "metadata": {
    "collapsed": false,
    "deletable": true,
    "editable": true
   },
   "outputs": [],
   "source": [
    "data_x = []\n",
    "data_y = []\n",
    "\n",
    "for ings_idxs in data_ings_idx:\n",
    "    if len(ings_idxs) == 1:\n",
    "        continue\n",
    "    for idx in set(ings_idxs):\n",
    "        y = np.zeros(n_words)\n",
    "        data_x.append(idx)\n",
    "        y[list(set(ings_idxs) - set([idx]))] = 1\n",
    "        data_y.append(y)\n",
    "        \n",
    "data_x = np.array(data_x)\n",
    "data_y = np.array(data_y)\n",
    "\n",
    "rd_idx = np.arange(len(data_x))\n",
    "np.random.shuffle(rd_idx)"
   ]
  },
  {
   "cell_type": "markdown",
   "metadata": {
    "collapsed": true,
    "deletable": true,
    "editable": true
   },
   "source": [
    "训练模型："
   ]
  },
  {
   "cell_type": "code",
   "execution_count": 31,
   "metadata": {
    "collapsed": false,
    "deletable": true,
    "editable": true
   },
   "outputs": [
    {
     "name": "stdout",
     "output_type": "stream",
     "text": [
      "epoch 1 completed\n",
      "epoch 2 completed\n",
      "epoch 3 completed\n",
      "epoch 4 completed\n",
      "epoch 5 completed\n"
     ]
    }
   ],
   "source": [
    "hist = model.fit(data_x[rd_idx], data_y[rd_idx], validation_split=0.1, verbose=0, epochs=1)"
   ]
  },
  {
   "cell_type": "markdown",
   "metadata": {
    "deletable": true,
    "editable": true
   },
   "source": [
    "训练完成，我们拿到这些Embedding的向量："
   ]
  },
  {
   "cell_type": "code",
   "execution_count": 32,
   "metadata": {
    "collapsed": true,
    "deletable": true,
    "editable": true
   },
   "outputs": [],
   "source": [
    "emb = model.get_weights()[0]"
   ]
  },
  {
   "cell_type": "code",
   "execution_count": 33,
   "metadata": {
    "collapsed": false,
    "deletable": true,
    "editable": true,
    "scrolled": true
   },
   "outputs": [
    {
     "data": {
      "text/plain": [
       "(738, 50)"
      ]
     },
     "execution_count": 33,
     "metadata": {},
     "output_type": "execute_result"
    }
   ],
   "source": [
    "emb.shape"
   ]
  },
  {
   "cell_type": "markdown",
   "metadata": {
    "deletable": true,
    "editable": true
   },
   "source": [
    "算个距离度量，并看看一些跟食材最接近的都是什么："
   ]
  },
  {
   "cell_type": "code",
   "execution_count": 34,
   "metadata": {
    "collapsed": false,
    "deletable": true,
    "editable": true
   },
   "outputs": [
    {
     "name": "stdout",
     "output_type": "stream",
     "text": [
      "酱油\n",
      "鸡蛋\n",
      "高汤\n"
     ]
    }
   ],
   "source": [
    "from scipy.spatial import distance\n",
    "\n",
    "dist = distance.squareform(distance.pdist(emb, \"cosine\"))\n",
    "\n",
    "print idx_word[np.argsort(dist[word_idx[\"盐\"]])[1]]\n",
    "print idx_word[np.argsort(dist[word_idx[\"鸡汤\"]])[1]]\n",
    "print idx_word[np.argsort(dist[word_idx[\"西红柿\"]])[1]]"
   ]
  },
  {
   "cell_type": "markdown",
   "metadata": {
    "deletable": true,
    "editable": true
   },
   "source": [
    "看起来还是蛮有意思的，然而并看不出什么靠谱的结论。"
   ]
  },
  {
   "cell_type": "markdown",
   "metadata": {
    "deletable": true,
    "editable": true
   },
   "source": [
    "### 菜系预测"
   ]
  },
  {
   "cell_type": "markdown",
   "metadata": {
    "deletable": true,
    "editable": true
   },
   "source": [
    "我们也可以用我们的数据来进行菜系预测，比如想象成一个序列预测问题，用一个输入序列来预测最终的菜系，序列处理可以使用一个`RNN`，比如`LSTM`，`GRU`等，这里我们随便用一个："
   ]
  },
  {
   "cell_type": "code",
   "execution_count": 35,
   "metadata": {
    "collapsed": true,
    "deletable": true,
    "editable": true
   },
   "outputs": [],
   "source": [
    "from keras.layers import LSTM, GRU\n",
    "from keras.preprocessing.sequence import pad_sequences"
   ]
  },
  {
   "cell_type": "code",
   "execution_count": 36,
   "metadata": {
    "collapsed": false,
    "deletable": true,
    "editable": true
   },
   "outputs": [],
   "source": [
    "def process_rnn(line):\n",
    "    # 标点符号\n",
    "    line = re.sub(\"[。，、/…~～：；:%（）]\", \"\", line)\n",
    "    # 阿拉伯数字替换为空格\n",
    "    line = re.sub(\"[\\d\\w]\", \"\", line)\n",
    "    return line\n",
    "\n",
    "data_rnn = [process_rnn(i[\"原料\"]) for i in data]"
   ]
  },
  {
   "cell_type": "code",
   "execution_count": 37,
   "metadata": {
    "collapsed": true,
    "deletable": true,
    "editable": true
   },
   "outputs": [],
   "source": [
    "word_cts = Counter(\"\".join(data_rnn))"
   ]
  },
  {
   "cell_type": "code",
   "execution_count": 38,
   "metadata": {
    "collapsed": false,
    "deletable": true,
    "editable": true
   },
   "outputs": [
    {
     "data": {
      "text/plain": [
       "1105"
      ]
     },
     "execution_count": 38,
     "metadata": {},
     "output_type": "execute_result"
    }
   ],
   "source": [
    "for k, v in word_cts.items():\n",
    "    if v == 1:\n",
    "        word_cts.pop(k)\n",
    "        \n",
    "len(word_cts)"
   ]
  },
  {
   "cell_type": "code",
   "execution_count": 39,
   "metadata": {
    "collapsed": true,
    "deletable": true,
    "editable": true
   },
   "outputs": [],
   "source": [
    "word_idx = {k: idx+1 for idx, k in enumerate(word_cts)}\n",
    "idx_word = {idx+1: k for idx, k in enumerate(word_cts)}\n",
    "\n",
    "tps_idx = {k: idx for idx, k in enumerate(tps_cts)}\n",
    "idx_tps = {idx: k for idx, k in enumerate(tps_cts)}"
   ]
  },
  {
   "cell_type": "code",
   "execution_count": 40,
   "metadata": {
    "collapsed": false,
    "deletable": true,
    "editable": true
   },
   "outputs": [],
   "source": [
    "data_rnn_idx = map(lambda x: [word_idx.get(t, 0) for t in x], data_rnn)\n",
    "data_tps_idx = np.array(map(lambda x: tps_idx[x], data_tps))"
   ]
  },
  {
   "cell_type": "code",
   "execution_count": 41,
   "metadata": {
    "collapsed": false,
    "deletable": true,
    "editable": true
   },
   "outputs": [],
   "source": [
    "data_rnn_idx = np.array(pad_sequences(data_rnn_idx))"
   ]
  },
  {
   "cell_type": "code",
   "execution_count": 42,
   "metadata": {
    "collapsed": false,
    "deletable": true,
    "editable": true
   },
   "outputs": [],
   "source": [
    "n_seq = len(data_rnn_idx[0])\n",
    "n_words = len(word_idx) + 1\n",
    "n_tps = len(tps_idx)"
   ]
  },
  {
   "cell_type": "code",
   "execution_count": 43,
   "metadata": {
    "collapsed": false,
    "deletable": true,
    "editable": true
   },
   "outputs": [],
   "source": [
    "rnn_model = Sequential()\n",
    "rnn_model.add(Embedding(n_words, 64, input_length=n_seq))\n",
    "rnn_model.add(GRU(64))\n",
    "rnn_model.add(Dense(128, activation=\"relu\", name=\"feat\"))\n",
    "rnn_model.add(Dense(n_tps, activation=\"softmax\"))\n",
    "\n",
    "rnn_model.compile(optimizer=\"adam\", loss=\"sparse_categorical_crossentropy\", metrics=[\"acc\"])"
   ]
  },
  {
   "cell_type": "code",
   "execution_count": 44,
   "metadata": {
    "collapsed": false,
    "deletable": true,
    "editable": true
   },
   "outputs": [],
   "source": [
    "hist = rnn_model.fit(data_rnn_idx, data_tps_idx,\n",
    "                     epochs=50, verbose=0)"
   ]
  },
  {
   "cell_type": "markdown",
   "metadata": {
    "deletable": true,
    "editable": true
   },
   "source": [
    "准确率为："
   ]
  },
  {
   "cell_type": "code",
   "execution_count": 45,
   "metadata": {
    "collapsed": false,
    "deletable": true,
    "editable": true
   },
   "outputs": [
    {
     "data": {
      "text/plain": [
       "0.90364867817347605"
      ]
     },
     "execution_count": 45,
     "metadata": {},
     "output_type": "execute_result"
    }
   ],
   "source": [
    "hist.history[\"acc\"][-1]"
   ]
  },
  {
   "cell_type": "markdown",
   "metadata": {
    "deletable": true,
    "editable": true
   },
   "source": [
    "我们现在把最后一层的特征拿出来："
   ]
  },
  {
   "cell_type": "code",
   "execution_count": 46,
   "metadata": {
    "collapsed": true,
    "deletable": true,
    "editable": true
   },
   "outputs": [],
   "source": [
    "from keras.models import Model\n",
    "feat_model = Model(inputs=rnn_model.input, outputs=rnn_model.get_layer(\"feat\").output)"
   ]
  },
  {
   "cell_type": "code",
   "execution_count": 47,
   "metadata": {
    "collapsed": true,
    "deletable": true,
    "editable": true
   },
   "outputs": [],
   "source": [
    "data_feat = feat_model.predict(data_rnn_idx)"
   ]
  },
  {
   "cell_type": "code",
   "execution_count": 48,
   "metadata": {
    "collapsed": false,
    "deletable": true,
    "editable": true
   },
   "outputs": [
    {
     "data": {
      "text/plain": [
       "(4577, 128)"
      ]
     },
     "execution_count": 48,
     "metadata": {},
     "output_type": "execute_result"
    }
   ],
   "source": [
    "data_feat.shape"
   ]
  },
  {
   "cell_type": "markdown",
   "metadata": {
    "deletable": true,
    "editable": true
   },
   "source": [
    "做一个TSNE降到2维："
   ]
  },
  {
   "cell_type": "code",
   "execution_count": 49,
   "metadata": {
    "collapsed": true,
    "deletable": true,
    "editable": true
   },
   "outputs": [],
   "source": [
    "from sklearn.manifold import TSNE"
   ]
  },
  {
   "cell_type": "code",
   "execution_count": 50,
   "metadata": {
    "collapsed": true,
    "deletable": true,
    "editable": true
   },
   "outputs": [],
   "source": [
    "data_feat_vis = TSNE(n_components=2, init='pca').fit_transform(data_feat)"
   ]
  },
  {
   "cell_type": "code",
   "execution_count": 51,
   "metadata": {
    "collapsed": false,
    "deletable": true,
    "editable": true
   },
   "outputs": [
    {
     "data": {
      "text/plain": [
       "(4577, 2)"
      ]
     },
     "execution_count": 51,
     "metadata": {},
     "output_type": "execute_result"
    }
   ],
   "source": [
    "data_feat_vis.shape"
   ]
  },
  {
   "cell_type": "markdown",
   "metadata": {
    "deletable": true,
    "editable": true
   },
   "source": [
    "可视化一下："
   ]
  },
  {
   "cell_type": "code",
   "execution_count": 98,
   "metadata": {
    "collapsed": false,
    "deletable": true,
    "editable": true
   },
   "outputs": [
    {
     "data": {
      "image/png": "[encoded data removed]",
      "text/plain": [
       "<matplotlib.figure.Figure at 0x7f896aa8a590>"
      ]
     },
     "metadata": {},
     "output_type": "display_data"
    }
   ],
   "source": [
    "_, ax = plt.subplots(figsize=(15, 12))\n",
    "for tp, idx in tps_idx.items():\n",
    "    ax.scatter(data_feat_vis[data_tps_idx==idx, 0], data_feat_vis[data_tps_idx==idx, 1], \n",
    "               c=cm.Vega20.colors[idx], label=tp)\n",
    "\n",
    "ax.set_xlim(-20, 40)\n",
    "ax.set_ylim(-20, 20)\n",
    "ax.set_xticks([])\n",
    "ax.set_yticks([])\n",
    "\n",
    "ax.legend(loc=0)\n",
    "ltext = ax.get_legend().get_texts()\n",
    "for t in ltext:\n",
    "    t.set_font_properties(font_song)\n",
    "    t.set_fontsize(\"xx-large\")\n",
    "\n",
    "plt.show()"
   ]
  },
  {
   "cell_type": "markdown",
   "metadata": {
    "deletable": true,
    "editable": true
   },
   "source": [
    "- 韩国菜明显风格跟天朝有差异\n",
    "- 浙江菜的隔壁是沪菜和江苏菜，江苏菜的隔壁是鲁菜\n",
    "- 微波炉菜（不知道什么鬼）混入了全部菜系之中\n",
    "- 闽菜和粤菜相邻\n",
    "- 粤菜的点分布的还挺开的（大概广东人什么都吃？）\n",
    "- 湘菜跟川菜也挺近的\n",
    "\n",
    "剩下的请恕我老眼昏花看不清楚，从地理上看，还是有点意思的。"
   ]
  },
  {
   "cell_type": "markdown",
   "metadata": {
    "deletable": true,
    "editable": true
   },
   "source": [
    "> 人生呐，就该一本正经地胡说八道。"
   ]
  }
 ],
 "metadata": {
  "kernelspec": {
   "display_name": "Python 2",
   "language": "python",
   "name": "python2"
  },
  "language_info": {
   "codemirror_mode": {
    "name": "ipython",
    "version": 2
   },
   "file_extension": ".py",
   "mimetype": "text/x-python",
   "name": "python",
   "nbconvert_exporter": "python",
   "pygments_lexer": "ipython2",
   "version": "2.7.12"
  }
 },
 "nbformat": 4,
 "nbformat_minor": 2
}
